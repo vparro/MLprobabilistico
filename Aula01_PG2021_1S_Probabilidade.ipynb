{
  "nbformat": 4,
  "nbformat_minor": 0,
  "metadata": {
    "colab": {
      "name": "Aula01_PG2021_1S_Probabilidade.ipynb",
      "provenance": [],
      "toc_visible": true,
      "mount_file_id": "1Nmz9sH76ULsxYtlDTAT-CyOsm2oi8NmH",
      "authorship_tag": "ABX9TyPBN88qU+DqfDfgq6ZpDJLC",
      "include_colab_link": true
    },
    "kernelspec": {
      "name": "python3",
      "display_name": "Python 3"
    },
    "language_info": {
      "name": "python"
    }
  },
  "cells": [
    {
      "cell_type": "markdown",
      "metadata": {
        "id": "view-in-github",
        "colab_type": "text"
      },
      "source": [
        "<a href=\"https://colab.research.google.com/github/vparro/MLprobabilistico/blob/master/Aula01_PG2021_1S_Probabilidade.ipynb\" target=\"_parent\"><img src=\"https://colab.research.google.com/assets/colab-badge.svg\" alt=\"Open In Colab\"/></a>"
      ]
    },
    {
      "cell_type": "markdown",
      "metadata": {
        "id": "3VZAWyFz4umn"
      },
      "source": [
        "# **Bibliotecas**"
      ]
    },
    {
      "cell_type": "code",
      "metadata": {
        "id": "MT-UXLPa41E2"
      },
      "source": [
        "########################################################################################################################################################################\n",
        "#\n",
        "### bibliotecas elementares\n",
        "\n",
        "import pandas as pd                   # manipulação de base de dados\n",
        "import numpy as np                    # manipulação numérica\n",
        "import seaborn as sns                 # manipulaçõa gráfica\n",
        "import matplotlib.pyplot as plt       # manipulação gráfica\n",
        "\n",
        "########################################################################################################################################################################"
      ],
      "execution_count": 1,
      "outputs": []
    },
    {
      "cell_type": "markdown",
      "metadata": {
        "id": "9wro-JQn42c1"
      },
      "source": [
        "# **Funções proprietárias**"
      ]
    },
    {
      "cell_type": "code",
      "metadata": {
        "id": "frkPNMqR45WP"
      },
      "source": [
        "########################################################################################################################################################################\n",
        "\n",
        "\n",
        "\n",
        "########################################################################################################################################################################"
      ],
      "execution_count": null,
      "outputs": []
    },
    {
      "cell_type": "markdown",
      "metadata": {
        "id": "EPMJZOSW4c70"
      },
      "source": [
        "# **Trabalhando com dados do campeonato inglês de futebol**"
      ]
    },
    {
      "cell_type": "code",
      "metadata": {
        "id": "Oq1_mkSO4bgi"
      },
      "source": [
        "########################################################################################################################################################################\n",
        "#\n",
        "### lendo os dados e separando em data frames\n",
        "\n",
        "df = pd.read_csv('/content/drive/My Drive/Colab Notebooks/16 - Trabalho/Tema01/england-premier-league-matches-2018-to-2019-stats.csv')\n",
        "df.head()\n",
        "\n",
        "\n",
        "########################################################################################################################################################################"
      ],
      "execution_count": null,
      "outputs": []
    }
  ]
}