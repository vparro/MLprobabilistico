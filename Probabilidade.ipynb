{
  "nbformat": 4,
  "nbformat_minor": 0,
  "metadata": {
    "colab": {
      "name": "Probabilidade.ipynb",
      "provenance": [],
      "authorship_tag": "ABX9TyME+jyzYlNgnL7D2tJER74Y",
      "include_colab_link": true
    },
    "kernelspec": {
      "name": "python3",
      "display_name": "Python 3"
    }
  },
  "cells": [
    {
      "cell_type": "markdown",
      "metadata": {
        "id": "view-in-github",
        "colab_type": "text"
      },
      "source": [
        "<a href=\"https://colab.research.google.com/github/vparro/MLprobabilistico/blob/master/Probabilidade.ipynb\" target=\"_parent\"><img src=\"https://colab.research.google.com/assets/colab-badge.svg\" alt=\"Open In Colab\"/></a>"
      ]
    },
    {
      "cell_type": "markdown",
      "metadata": {
        "id": "sQYKRM5lDPto"
      },
      "source": [
        "# Bibliotecas"
      ]
    },
    {
      "cell_type": "markdown",
      "metadata": {
        "id": "OPNdIx3lDZ0g"
      },
      "source": [
        "# Introdução"
      ]
    },
    {
      "cell_type": "markdown",
      "metadata": {
        "id": "0XNaaql1Dfbu"
      },
      "source": [
        "# Futebol"
      ]
    },
    {
      "cell_type": "markdown",
      "metadata": {
        "id": "U4RSNyOqDu1w"
      },
      "source": [
        "# Bolsa de valores"
      ]
    },
    {
      "cell_type": "markdown",
      "metadata": {
        "id": "rQS1kPZZDjtp"
      },
      "source": [
        "# Vinho"
      ]
    }
  ]
}